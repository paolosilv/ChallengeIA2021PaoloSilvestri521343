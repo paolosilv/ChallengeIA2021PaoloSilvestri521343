{
 "cells": [
  {
   "cell_type": "markdown",
   "metadata": {},
   "source": [
    "# Notebook di Training"
   ]
  },
  {
   "cell_type": "markdown",
   "metadata": {},
   "source": [
    "Installo tutte le librerie necessarie per lo svolgimento del notebook"
   ]
  },
  {
   "cell_type": "code",
   "execution_count": 1,
   "metadata": {},
   "outputs": [
    {
     "name": "stdout",
     "output_type": "stream",
     "text": [
      "Requirement already satisfied: pandas in c:\\users\\paolo\\anaconda3\\lib\\site-packages (1.1.3)\n",
      "Requirement already satisfied: numpy>=1.15.4 in c:\\users\\paolo\\anaconda3\\lib\\site-packages (from pandas) (1.19.2)\n",
      "Requirement already satisfied: python-dateutil>=2.7.3 in c:\\users\\paolo\\anaconda3\\lib\\site-packages (from pandas) (2.8.1)\n",
      "Requirement already satisfied: pytz>=2017.2 in c:\\users\\paolo\\anaconda3\\lib\\site-packages (from pandas) (2020.1)\n",
      "Requirement already satisfied: six>=1.5 in c:\\users\\paolo\\anaconda3\\lib\\site-packages (from python-dateutil>=2.7.3->pandas) (1.15.0)\n",
      "Requirement already satisfied: numpy in c:\\users\\paolo\\anaconda3\\lib\\site-packages (1.19.2)\n",
      "Requirement already satisfied: seaborn in c:\\users\\paolo\\anaconda3\\lib\\site-packages (0.11.0)\n",
      "Requirement already satisfied: numpy>=1.15 in c:\\users\\paolo\\anaconda3\\lib\\site-packages (from seaborn) (1.19.2)\n",
      "Requirement already satisfied: scipy>=1.0 in c:\\users\\paolo\\anaconda3\\lib\\site-packages (from seaborn) (1.5.2)\n",
      "Requirement already satisfied: pandas>=0.23 in c:\\users\\paolo\\anaconda3\\lib\\site-packages (from seaborn) (1.1.3)\n",
      "Requirement already satisfied: matplotlib>=2.2 in c:\\users\\paolo\\anaconda3\\lib\\site-packages (from seaborn) (3.3.2)\n",
      "Requirement already satisfied: pytz>=2017.2 in c:\\users\\paolo\\anaconda3\\lib\\site-packages (from pandas>=0.23->seaborn) (2020.1)\n",
      "Requirement already satisfied: python-dateutil>=2.7.3 in c:\\users\\paolo\\anaconda3\\lib\\site-packages (from pandas>=0.23->seaborn) (2.8.1)\n",
      "Requirement already satisfied: pillow>=6.2.0 in c:\\users\\paolo\\anaconda3\\lib\\site-packages (from matplotlib>=2.2->seaborn) (8.0.1)\n",
      "Requirement already satisfied: cycler>=0.10 in c:\\users\\paolo\\anaconda3\\lib\\site-packages (from matplotlib>=2.2->seaborn) (0.10.0)\n",
      "Requirement already satisfied: kiwisolver>=1.0.1 in c:\\users\\paolo\\anaconda3\\lib\\site-packages (from matplotlib>=2.2->seaborn) (1.3.0)\n",
      "Requirement already satisfied: certifi>=2020.06.20 in c:\\users\\paolo\\anaconda3\\lib\\site-packages (from matplotlib>=2.2->seaborn) (2020.6.20)\n",
      "Requirement already satisfied: pyparsing!=2.0.4,!=2.1.2,!=2.1.6,>=2.0.3 in c:\\users\\paolo\\anaconda3\\lib\\site-packages (from matplotlib>=2.2->seaborn) (2.4.7)\n",
      "Requirement already satisfied: six>=1.5 in c:\\users\\paolo\\anaconda3\\lib\\site-packages (from python-dateutil>=2.7.3->pandas>=0.23->seaborn) (1.15.0)\n",
      "Requirement already satisfied: scikit-plot in c:\\users\\paolo\\anaconda3\\lib\\site-packages (0.3.7)\n",
      "Requirement already satisfied: scikit-learn>=0.18 in c:\\users\\paolo\\anaconda3\\lib\\site-packages (from scikit-plot) (0.23.2)\n",
      "Requirement already satisfied: matplotlib>=1.4.0 in c:\\users\\paolo\\anaconda3\\lib\\site-packages (from scikit-plot) (3.3.2)\n",
      "Requirement already satisfied: joblib>=0.10 in c:\\users\\paolo\\anaconda3\\lib\\site-packages (from scikit-plot) (0.17.0)\n",
      "Requirement already satisfied: scipy>=0.9 in c:\\users\\paolo\\anaconda3\\lib\\site-packages (from scikit-plot) (1.5.2)\n",
      "Requirement already satisfied: numpy>=1.13.3 in c:\\users\\paolo\\anaconda3\\lib\\site-packages (from scikit-learn>=0.18->scikit-plot) (1.19.2)\n",
      "Requirement already satisfied: threadpoolctl>=2.0.0 in c:\\users\\paolo\\anaconda3\\lib\\site-packages (from scikit-learn>=0.18->scikit-plot) (2.1.0)\n",
      "Requirement already satisfied: pillow>=6.2.0 in c:\\users\\paolo\\anaconda3\\lib\\site-packages (from matplotlib>=1.4.0->scikit-plot) (8.0.1)\n",
      "Requirement already satisfied: certifi>=2020.06.20 in c:\\users\\paolo\\anaconda3\\lib\\site-packages (from matplotlib>=1.4.0->scikit-plot) (2020.6.20)\n",
      "Requirement already satisfied: pyparsing!=2.0.4,!=2.1.2,!=2.1.6,>=2.0.3 in c:\\users\\paolo\\anaconda3\\lib\\site-packages (from matplotlib>=1.4.0->scikit-plot) (2.4.7)\n",
      "Requirement already satisfied: kiwisolver>=1.0.1 in c:\\users\\paolo\\anaconda3\\lib\\site-packages (from matplotlib>=1.4.0->scikit-plot) (1.3.0)\n",
      "Requirement already satisfied: python-dateutil>=2.1 in c:\\users\\paolo\\anaconda3\\lib\\site-packages (from matplotlib>=1.4.0->scikit-plot) (2.8.1)\n",
      "Requirement already satisfied: cycler>=0.10 in c:\\users\\paolo\\anaconda3\\lib\\site-packages (from matplotlib>=1.4.0->scikit-plot) (0.10.0)\n",
      "Requirement already satisfied: six>=1.5 in c:\\users\\paolo\\anaconda3\\lib\\site-packages (from python-dateutil>=2.1->matplotlib>=1.4.0->scikit-plot) (1.15.0)\n"
     ]
    }
   ],
   "source": [
    "!pip install pandas\n",
    "!pip install numpy\n",
    "!pip install seaborn\n",
    "!pip install scikit-plot"
   ]
  },
  {
   "cell_type": "markdown",
   "metadata": {},
   "source": [
    "Importo le librerie necessarie "
   ]
  },
  {
   "cell_type": "code",
   "execution_count": 2,
   "metadata": {},
   "outputs": [],
   "source": [
    "import pandas as pd\n",
    "import numpy as np\n",
    "import seaborn as sns\n",
    "import scikitplot as skplt\n",
    "import matplotlib.pyplot as plt\n",
    "from sklearn.ensemble import RandomForestClassifier, GradientBoostingClassifier\n",
    "from sklearn.metrics import accuracy_score, classification_report\n",
    "from sklearn.preprocessing import MinMaxScaler\n",
    "from sklearn.compose import ColumnTransformer \n",
    "from sklearn.preprocessing import OneHotEncoder"
   ]
  },
  {
   "cell_type": "markdown",
   "metadata": {},
   "source": [
    "Recupero i dati di train e di test risalenti al file principale che ho suddiviso in due file nel notebook di separazione"
   ]
  },
  {
   "cell_type": "code",
   "execution_count": 3,
   "metadata": {},
   "outputs": [],
   "source": [
    "train = pd.read_csv('train.csv')\n",
    "test = pd.read_csv('test.csv') "
   ]
  },
  {
   "cell_type": "markdown",
   "metadata": {},
   "source": [
    "Do un'occhiata alle features"
   ]
  },
  {
   "cell_type": "code",
   "execution_count": 4,
   "metadata": {},
   "outputs": [
    {
     "data": {
      "text/html": [
       "<div>\n",
       "<style scoped>\n",
       "    .dataframe tbody tr th:only-of-type {\n",
       "        vertical-align: middle;\n",
       "    }\n",
       "\n",
       "    .dataframe tbody tr th {\n",
       "        vertical-align: top;\n",
       "    }\n",
       "\n",
       "    .dataframe thead th {\n",
       "        text-align: right;\n",
       "    }\n",
       "</style>\n",
       "<table border=\"1\" class=\"dataframe\">\n",
       "  <thead>\n",
       "    <tr style=\"text-align: right;\">\n",
       "      <th></th>\n",
       "      <th>Exited</th>\n",
       "      <th>RowNumber</th>\n",
       "      <th>CustomerId</th>\n",
       "      <th>Surname</th>\n",
       "      <th>CreditScore</th>\n",
       "      <th>Geography</th>\n",
       "      <th>Gender</th>\n",
       "      <th>Age</th>\n",
       "      <th>Tenure</th>\n",
       "      <th>Balance</th>\n",
       "      <th>NumOfProducts</th>\n",
       "      <th>HasCrCard</th>\n",
       "      <th>IsActiveMember</th>\n",
       "      <th>EstimatedSalary</th>\n",
       "    </tr>\n",
       "  </thead>\n",
       "  <tbody>\n",
       "    <tr>\n",
       "      <th>0</th>\n",
       "      <td>0</td>\n",
       "      <td>8589</td>\n",
       "      <td>15742809</td>\n",
       "      <td>Mironova</td>\n",
       "      <td>712</td>\n",
       "      <td>Spain</td>\n",
       "      <td>Female</td>\n",
       "      <td>29</td>\n",
       "      <td>7</td>\n",
       "      <td>77919.78</td>\n",
       "      <td>1</td>\n",
       "      <td>1</td>\n",
       "      <td>0</td>\n",
       "      <td>122547.58</td>\n",
       "    </tr>\n",
       "    <tr>\n",
       "      <th>1</th>\n",
       "      <td>0</td>\n",
       "      <td>3179</td>\n",
       "      <td>15609669</td>\n",
       "      <td>Chuang</td>\n",
       "      <td>542</td>\n",
       "      <td>France</td>\n",
       "      <td>Female</td>\n",
       "      <td>39</td>\n",
       "      <td>4</td>\n",
       "      <td>109949.39</td>\n",
       "      <td>2</td>\n",
       "      <td>1</td>\n",
       "      <td>1</td>\n",
       "      <td>41268.65</td>\n",
       "    </tr>\n",
       "    <tr>\n",
       "      <th>2</th>\n",
       "      <td>0</td>\n",
       "      <td>5201</td>\n",
       "      <td>15641298</td>\n",
       "      <td>Corones</td>\n",
       "      <td>512</td>\n",
       "      <td>Germany</td>\n",
       "      <td>Male</td>\n",
       "      <td>42</td>\n",
       "      <td>9</td>\n",
       "      <td>93955.83</td>\n",
       "      <td>2</td>\n",
       "      <td>1</td>\n",
       "      <td>0</td>\n",
       "      <td>14828.54</td>\n",
       "    </tr>\n",
       "    <tr>\n",
       "      <th>3</th>\n",
       "      <td>0</td>\n",
       "      <td>8890</td>\n",
       "      <td>15777046</td>\n",
       "      <td>Parry</td>\n",
       "      <td>580</td>\n",
       "      <td>France</td>\n",
       "      <td>Female</td>\n",
       "      <td>39</td>\n",
       "      <td>9</td>\n",
       "      <td>128362.59</td>\n",
       "      <td>1</td>\n",
       "      <td>1</td>\n",
       "      <td>0</td>\n",
       "      <td>86044.98</td>\n",
       "    </tr>\n",
       "    <tr>\n",
       "      <th>4</th>\n",
       "      <td>1</td>\n",
       "      <td>5790</td>\n",
       "      <td>15726103</td>\n",
       "      <td>Tsou</td>\n",
       "      <td>689</td>\n",
       "      <td>Germany</td>\n",
       "      <td>Female</td>\n",
       "      <td>55</td>\n",
       "      <td>1</td>\n",
       "      <td>76296.81</td>\n",
       "      <td>1</td>\n",
       "      <td>1</td>\n",
       "      <td>0</td>\n",
       "      <td>42364.75</td>\n",
       "    </tr>\n",
       "    <tr>\n",
       "      <th>...</th>\n",
       "      <td>...</td>\n",
       "      <td>...</td>\n",
       "      <td>...</td>\n",
       "      <td>...</td>\n",
       "      <td>...</td>\n",
       "      <td>...</td>\n",
       "      <td>...</td>\n",
       "      <td>...</td>\n",
       "      <td>...</td>\n",
       "      <td>...</td>\n",
       "      <td>...</td>\n",
       "      <td>...</td>\n",
       "      <td>...</td>\n",
       "      <td>...</td>\n",
       "    </tr>\n",
       "    <tr>\n",
       "      <th>5995</th>\n",
       "      <td>0</td>\n",
       "      <td>8872</td>\n",
       "      <td>15699524</td>\n",
       "      <td>Howells</td>\n",
       "      <td>466</td>\n",
       "      <td>France</td>\n",
       "      <td>Female</td>\n",
       "      <td>30</td>\n",
       "      <td>3</td>\n",
       "      <td>0.00</td>\n",
       "      <td>1</td>\n",
       "      <td>1</td>\n",
       "      <td>0</td>\n",
       "      <td>193984.60</td>\n",
       "    </tr>\n",
       "    <tr>\n",
       "      <th>5996</th>\n",
       "      <td>0</td>\n",
       "      <td>9827</td>\n",
       "      <td>15686917</td>\n",
       "      <td>Tu</td>\n",
       "      <td>789</td>\n",
       "      <td>Spain</td>\n",
       "      <td>Female</td>\n",
       "      <td>40</td>\n",
       "      <td>4</td>\n",
       "      <td>0.00</td>\n",
       "      <td>2</td>\n",
       "      <td>1</td>\n",
       "      <td>0</td>\n",
       "      <td>137402.27</td>\n",
       "    </tr>\n",
       "    <tr>\n",
       "      <th>5997</th>\n",
       "      <td>0</td>\n",
       "      <td>5269</td>\n",
       "      <td>15687648</td>\n",
       "      <td>Nicholson</td>\n",
       "      <td>691</td>\n",
       "      <td>France</td>\n",
       "      <td>Male</td>\n",
       "      <td>28</td>\n",
       "      <td>1</td>\n",
       "      <td>0.00</td>\n",
       "      <td>2</td>\n",
       "      <td>0</td>\n",
       "      <td>0</td>\n",
       "      <td>92865.41</td>\n",
       "    </tr>\n",
       "    <tr>\n",
       "      <th>5998</th>\n",
       "      <td>0</td>\n",
       "      <td>9667</td>\n",
       "      <td>15781689</td>\n",
       "      <td>Macadam</td>\n",
       "      <td>758</td>\n",
       "      <td>Spain</td>\n",
       "      <td>Male</td>\n",
       "      <td>35</td>\n",
       "      <td>5</td>\n",
       "      <td>0.00</td>\n",
       "      <td>2</td>\n",
       "      <td>1</td>\n",
       "      <td>0</td>\n",
       "      <td>95009.60</td>\n",
       "    </tr>\n",
       "    <tr>\n",
       "      <th>5999</th>\n",
       "      <td>0</td>\n",
       "      <td>6091</td>\n",
       "      <td>15738785</td>\n",
       "      <td>Kang</td>\n",
       "      <td>545</td>\n",
       "      <td>France</td>\n",
       "      <td>Male</td>\n",
       "      <td>26</td>\n",
       "      <td>7</td>\n",
       "      <td>0.00</td>\n",
       "      <td>2</td>\n",
       "      <td>0</td>\n",
       "      <td>1</td>\n",
       "      <td>156598.23</td>\n",
       "    </tr>\n",
       "  </tbody>\n",
       "</table>\n",
       "<p>6000 rows × 14 columns</p>\n",
       "</div>"
      ],
      "text/plain": [
       "      Exited  RowNumber  CustomerId    Surname  CreditScore Geography  Gender  \\\n",
       "0          0       8589    15742809   Mironova          712     Spain  Female   \n",
       "1          0       3179    15609669     Chuang          542    France  Female   \n",
       "2          0       5201    15641298    Corones          512   Germany    Male   \n",
       "3          0       8890    15777046      Parry          580    France  Female   \n",
       "4          1       5790    15726103       Tsou          689   Germany  Female   \n",
       "...      ...        ...         ...        ...          ...       ...     ...   \n",
       "5995       0       8872    15699524    Howells          466    France  Female   \n",
       "5996       0       9827    15686917         Tu          789     Spain  Female   \n",
       "5997       0       5269    15687648  Nicholson          691    France    Male   \n",
       "5998       0       9667    15781689    Macadam          758     Spain    Male   \n",
       "5999       0       6091    15738785       Kang          545    France    Male   \n",
       "\n",
       "      Age  Tenure    Balance  NumOfProducts  HasCrCard  IsActiveMember  \\\n",
       "0      29       7   77919.78              1          1               0   \n",
       "1      39       4  109949.39              2          1               1   \n",
       "2      42       9   93955.83              2          1               0   \n",
       "3      39       9  128362.59              1          1               0   \n",
       "4      55       1   76296.81              1          1               0   \n",
       "...   ...     ...        ...            ...        ...             ...   \n",
       "5995   30       3       0.00              1          1               0   \n",
       "5996   40       4       0.00              2          1               0   \n",
       "5997   28       1       0.00              2          0               0   \n",
       "5998   35       5       0.00              2          1               0   \n",
       "5999   26       7       0.00              2          0               1   \n",
       "\n",
       "      EstimatedSalary  \n",
       "0           122547.58  \n",
       "1            41268.65  \n",
       "2            14828.54  \n",
       "3            86044.98  \n",
       "4            42364.75  \n",
       "...               ...  \n",
       "5995        193984.60  \n",
       "5996        137402.27  \n",
       "5997         92865.41  \n",
       "5998         95009.60  \n",
       "5999        156598.23  \n",
       "\n",
       "[6000 rows x 14 columns]"
      ]
     },
     "execution_count": 4,
     "metadata": {},
     "output_type": "execute_result"
    }
   ],
   "source": [
    "train"
   ]
  },
  {
   "cell_type": "markdown",
   "metadata": {},
   "source": [
    "# Grafici ed importanza delle features"
   ]
  },
  {
   "cell_type": "code",
   "execution_count": 5,
   "metadata": {},
   "outputs": [
    {
     "data": {
      "text/plain": [
       "<AxesSubplot:xlabel='Exited', ylabel='CreditScore'>"
      ]
     },
     "execution_count": 5,
     "metadata": {},
     "output_type": "execute_result"
    },
    {
     "data": {
      "image/png": "[encoded data removed]",
      "text/plain": [
       "<Figure size 1800x720 with 1 Axes>"
      ]
     },
     "metadata": {
      "needs_background": "light"
     },
     "output_type": "display_data"
    }
   ],
   "source": [
    "plt.figure(figsize = (25,10))\n",
    "sns.barplot(data = train, x='Exited', y='CreditScore')"
   ]
  },
  {
   "cell_type": "markdown",
   "metadata": {},
   "source": [
    "Come possiamo notare il CreditScore non ci da grandissime informazioni sulla variabile target."
   ]
  },
  {
   "cell_type": "code",
   "execution_count": 6,
   "metadata": {},
   "outputs": [
    {
     "data": {
      "text/plain": [
       "<AxesSubplot:xlabel='Age', ylabel='Exited'>"
      ]
     },
     "execution_count": 6,
     "metadata": {},
     "output_type": "execute_result"
    },
    {
     "data": {
      "image/png": "[encoded data removed]",
      "text/plain": [
       "<Figure size 1800x720 with 1 Axes>"
      ]
     },
     "metadata": {
      "needs_background": "light"
     },
     "output_type": "display_data"
    }
   ],
   "source": [
    "plt.figure(figsize = (25,10))\n",
    "sns.barplot(data = train, x='Age', y='Exited')"
   ]
  },
  {
   "cell_type": "markdown",
   "metadata": {},
   "source": [
    "E' evidente che l'età è un fattore fondamentale per predire se un cliente con determinate caratteristiche economiche è destinato a lasciare la banca, generalmente chi ha dai 50 ai 60 anni abbandona con più probabilità la banca rispetto ad un anziano o ad un giovanissimo."
   ]
  },
  {
   "cell_type": "code",
   "execution_count": 7,
   "metadata": {},
   "outputs": [
    {
     "data": {
      "text/plain": [
       "<AxesSubplot:xlabel='Age', ylabel='EstimatedSalary'>"
      ]
     },
     "execution_count": 7,
     "metadata": {},
     "output_type": "execute_result"
    },
    {
     "data": {
      "image/png": "[encoded data removed]",
      "text/plain": [
       "<Figure size 1800x720 with 1 Axes>"
      ]
     },
     "metadata": {
      "needs_background": "light"
     },
     "output_type": "display_data"
    }
   ],
   "source": [
    "plt.figure(figsize = (25,10))\n",
    "sns.barplot(data = train, x='Age', y='EstimatedSalary', hue='Exited')"
   ]
  },
  {
   "cell_type": "code",
   "execution_count": 8,
   "metadata": {},
   "outputs": [
    {
     "data": {
      "text/plain": [
       "<AxesSubplot:xlabel='Age', ylabel='Balance'>"
      ]
     },
     "execution_count": 8,
     "metadata": {},
     "output_type": "execute_result"
    },
    {
     "data": {
      "image/png": "[encoded data removed]",
      "text/plain": [
       "<Figure size 1800x720 with 1 Axes>"
      ]
     },
     "metadata": {
      "needs_background": "light"
     },
     "output_type": "display_data"
    }
   ],
   "source": [
    "plt.figure(figsize = (25,10))\n",
    "sns.barplot(data = train, x='Age', y='Balance', hue='Exited')"
   ]
  },
  {
   "cell_type": "markdown",
   "metadata": {},
   "source": [
    "Abbiamo analizzato l'andamento del bilancio e del Salario rispetto all'età dei clienti, inoltre abbiamo avuto uno spunto cruciale, come possiamo notare, sia nel caso dei ragazzi giovanissimi (18/19 anni) e soprattutto nel caso delle persone anziane (+71 anni) quasi nessuno abbandona la banca, la più alta concentrazione di persone che abbandonano si trova nell'età dai 50 ai 60 anni (come visto nel grafico precedente).\n",
    "\n",
    "\n",
    "Perciò l'età è molto importante come fattore, direi fondamentale.\n",
    "\n",
    "Riguardo al salario abbiamo buone informazioni, di media chi ha alto salario è destinato a lasciare la banca.\n",
    "\n",
    "Identico concetto avviene per il bilancio, nella maggior parte dei casi chi ha bilancio superiore ai 100000 lascerà la banca.\n",
    "\n",
    "Anche per i valori medio/bassi del bilancio la distinzione appare abbastanza chiara, quasi solitamente chi ha un bilancio medio/basso rimane nella banca.\n",
    "\n",
    "Distinzione più difficile da fare riguardo al salario stimato dove però rimane il concetto che di solito chi ha salario più alto è destinato a lasciare anche se è molto meno evidente.\n",
    "\n",
    "Definiamo infatti dei grafici che rendono la nostra idea solo relativamente ad \"Exited\" con \"Balance\" ed \"Exited\" con \"EstimatedSalary\", vediamo che come descritto, chi ha valori più alti delle due features in media abbandona la banca, anche se in EstimatedSalary la differenza è davvero minima."
   ]
  },
  {
   "cell_type": "code",
   "execution_count": 9,
   "metadata": {},
   "outputs": [
    {
     "data": {
      "text/plain": [
       "<AxesSubplot:xlabel='Exited', ylabel='Balance'>"
      ]
     },
     "execution_count": 9,
     "metadata": {},
     "output_type": "execute_result"
    },
    {
     "data": {
      "image/png": "[encoded data removed]",
      "text/plain": [
       "<Figure size 1800x720 with 1 Axes>"
      ]
     },
     "metadata": {
      "needs_background": "light"
     },
     "output_type": "display_data"
    }
   ],
   "source": [
    "plt.figure(figsize = (25,10))\n",
    "sns.barplot(data = train, x='Exited', y='Balance')"
   ]
  },
  {
   "cell_type": "code",
   "execution_count": 10,
   "metadata": {},
   "outputs": [
    {
     "data": {
      "text/plain": [
       "<AxesSubplot:xlabel='Exited', ylabel='EstimatedSalary'>"
      ]
     },
     "execution_count": 10,
     "metadata": {},
     "output_type": "execute_result"
    },
    {
     "data": {
      "image/png": "[encoded data removed]",
      "text/plain": [
       "<Figure size 1800x720 with 1 Axes>"
      ]
     },
     "metadata": {
      "needs_background": "light"
     },
     "output_type": "display_data"
    }
   ],
   "source": [
    "plt.figure(figsize = (25,10))\n",
    "sns.barplot(data = train, x='Exited', y='EstimatedSalary')"
   ]
  },
  {
   "cell_type": "markdown",
   "metadata": {},
   "source": [
    "# -----------------------------------------------------------------------------------"
   ]
  },
  {
   "cell_type": "code",
   "execution_count": 11,
   "metadata": {},
   "outputs": [
    {
     "data": {
      "text/plain": [
       "<AxesSubplot:xlabel='Geography', ylabel='Balance'>"
      ]
     },
     "execution_count": 11,
     "metadata": {},
     "output_type": "execute_result"
    },
    {
     "data": {
      "image/png": "[encoded data removed]",
      "text/plain": [
       "<Figure size 1800x720 with 1 Axes>"
      ]
     },
     "metadata": {
      "needs_background": "light"
     },
     "output_type": "display_data"
    }
   ],
   "source": [
    "plt.figure(figsize = (25,10))\n",
    "sns.barplot(data = train, x='Geography', y='Balance', hue='Exited')"
   ]
  },
  {
   "cell_type": "code",
   "execution_count": 12,
   "metadata": {},
   "outputs": [
    {
     "data": {
      "text/plain": [
       "<AxesSubplot:xlabel='Geography', ylabel='EstimatedSalary'>"
      ]
     },
     "execution_count": 12,
     "metadata": {},
     "output_type": "execute_result"
    },
    {
     "data": {
      "image/png": "[encoded data removed]",
      "text/plain": [
       "<Figure size 1800x720 with 1 Axes>"
      ]
     },
     "metadata": {
      "needs_background": "light"
     },
     "output_type": "display_data"
    }
   ],
   "source": [
    "plt.figure(figsize = (25,10))\n",
    "sns.barplot(data = train, x='Geography', y='EstimatedSalary', hue='Exited')"
   ]
  },
  {
   "cell_type": "markdown",
   "metadata": {},
   "source": [
    "E' possibile notare che la suddivisione geografica ci da buone info sul bilancio e sulla stima, bilancio e stima che come definito precedentemente sono molto importanti perchè, ad esempio, un alto bilancio generalmente porta all'uscita dalla banca.\n",
    "\n",
    "Come possiamo notare in Spagna il bilancio è mediamente piu basso e come definito in precedenza chi ha bilancio più basso è destinato a rimanere nella banca, mentre chi ha bilancio più alto tende ad abbandonarla; stesso andamento avviene in Francia.\n",
    "\n",
    "In Germania c'è una leggera controtendenza, perchè qui chi ha il bilancio più alto preferisce (anche se la differenza mediamente è veramente minima) rimanere nella propria banca ed è semplice notare che mediamente il bilancio in Germania è molto piu alto rispetto a quello degli altri due paesi.\n",
    "\n",
    "Tendenza confermata anche con la stima del salario anche se qui c'è un bilanciamento maggiore nella Spagna e nella Francia dove chi ha salario piu basso di solito rimane in banca, chi ce l'ha più alto di solito lascia. In Germania la controtendenza è ancora più accentuata, chi ha salario più alto generalmente tende a rimanere!"
   ]
  },
  {
   "cell_type": "code",
   "execution_count": 13,
   "metadata": {},
   "outputs": [
    {
     "data": {
      "text/plain": [
       "<AxesSubplot:xlabel='Exited', ylabel='NumOfProducts'>"
      ]
     },
     "execution_count": 13,
     "metadata": {},
     "output_type": "execute_result"
    },
    {
     "data": {
      "image/png": "[encoded data removed]",
      "text/plain": [
       "<Figure size 1800x720 with 1 Axes>"
      ]
     },
     "metadata": {
      "needs_background": "light"
     },
     "output_type": "display_data"
    }
   ],
   "source": [
    "plt.figure(figsize = (25,10))\n",
    "sns.barplot(data = train, x='Exited', y='NumOfProducts', hue='Exited')"
   ]
  },
  {
   "cell_type": "markdown",
   "metadata": {},
   "source": [
    "Generalmente, anche se la differenza è poca, chi usa un numero di prodotti finanziari maggiore ha una maggiore tendenza nel rimanere nella banca!"
   ]
  },
  {
   "cell_type": "code",
   "execution_count": 14,
   "metadata": {},
   "outputs": [
    {
     "data": {
      "text/plain": [
       "<AxesSubplot:xlabel='Exited', ylabel='Tenure'>"
      ]
     },
     "execution_count": 14,
     "metadata": {},
     "output_type": "execute_result"
    },
    {
     "data": {
      "image/png": "[encoded data removed]",
      "text/plain": [
       "<Figure size 1800x720 with 1 Axes>"
      ]
     },
     "metadata": {
      "needs_background": "light"
     },
     "output_type": "display_data"
    }
   ],
   "source": [
    "plt.figure(figsize = (25,10))\n",
    "sns.barplot(data = train, x='Exited', y='Tenure')"
   ]
  },
  {
   "cell_type": "markdown",
   "metadata": {},
   "source": [
    "Generalmente, chi è cliente da più anni ha una leggera tendenza a rimanere."
   ]
  },
  {
   "cell_type": "code",
   "execution_count": 15,
   "metadata": {},
   "outputs": [
    {
     "data": {
      "text/plain": [
       "<AxesSubplot:xlabel='Exited', ylabel='IsActiveMember'>"
      ]
     },
     "execution_count": 15,
     "metadata": {},
     "output_type": "execute_result"
    },
    {
     "data": {
      "image/png": "[encoded data removed]",
      "text/plain": [
       "<Figure size 1800x720 with 1 Axes>"
      ]
     },
     "metadata": {
      "needs_background": "light"
     },
     "output_type": "display_data"
    }
   ],
   "source": [
    "plt.figure(figsize = (25,10))\n",
    "sns.barplot(data = train, x='Exited', y='IsActiveMember')"
   ]
  },
  {
   "cell_type": "markdown",
   "metadata": {},
   "source": [
    "E' evidente che chi è un membro attivo è più difficile che abbandoni la banca rispetto ad un membro non più attivo."
   ]
  },
  {
   "cell_type": "code",
   "execution_count": 16,
   "metadata": {},
   "outputs": [
    {
     "data": {
      "text/plain": [
       "<AxesSubplot:xlabel='Exited', ylabel='Gender'>"
      ]
     },
     "execution_count": 16,
     "metadata": {},
     "output_type": "execute_result"
    },
    {
     "data": {
      "image/png": "[encoded data removed]",
      "text/plain": [
       "<Figure size 1800x720 with 1 Axes>"
      ]
     },
     "metadata": {
      "needs_background": "light"
     },
     "output_type": "display_data"
    }
   ],
   "source": [
    "plt.figure(figsize = (25,10))\n",
    "sns.barplot(data = train, x='Exited', y='Gender')"
   ]
  },
  {
   "cell_type": "markdown",
   "metadata": {},
   "source": [
    "Anche il sesso ha la sua importanza perchè è possibile notare che generalmente sono le donne che abbandonno con più probabilità la banca!"
   ]
  },
  {
   "cell_type": "markdown",
   "metadata": {},
   "source": [
    "# Manipolazione dei dati"
   ]
  },
  {
   "cell_type": "markdown",
   "metadata": {},
   "source": [
    "Posso notare che le features \"Surname\" e \"CustomerId\" c'entrano poco con la classificazione \"Exited\" perciò posso levarle\n",
    "dall'insieme delle features che utilizzerò per addestrare il mio modello.\n",
    "\n",
    "Inoltre, suddivido i miei dati in X ed y , la X fa riferimento alle features utilizzate, mentre y fa riferimento al target."
   ]
  },
  {
   "cell_type": "code",
   "execution_count": 17,
   "metadata": {},
   "outputs": [],
   "source": [
    "X_train = train.drop(['Exited', 'Surname', 'CustomerId'], axis=1)\n",
    "y_train = train['Exited']"
   ]
  },
  {
   "cell_type": "code",
   "execution_count": 18,
   "metadata": {},
   "outputs": [],
   "source": [
    "X_test = test.drop(['Exited', 'Surname', 'CustomerId'], axis=1)\n",
    "y_test = test['Exited']"
   ]
  },
  {
   "cell_type": "markdown",
   "metadata": {},
   "source": [
    "# Encoding sulle categorie e le stringhe"
   ]
  },
  {
   "cell_type": "markdown",
   "metadata": {},
   "source": [
    "Verifico ora come è fatta la tabella dei dati X dopo che sono state tolte le features inutili e la colonna target:"
   ]
  },
  {
   "cell_type": "code",
   "execution_count": 19,
   "metadata": {},
   "outputs": [
    {
     "data": {
      "text/html": [
       "<div>\n",
       "<style scoped>\n",
       "    .dataframe tbody tr th:only-of-type {\n",
       "        vertical-align: middle;\n",
       "    }\n",
       "\n",
       "    .dataframe tbody tr th {\n",
       "        vertical-align: top;\n",
       "    }\n",
       "\n",
       "    .dataframe thead th {\n",
       "        text-align: right;\n",
       "    }\n",
       "</style>\n",
       "<table border=\"1\" class=\"dataframe\">\n",
       "  <thead>\n",
       "    <tr style=\"text-align: right;\">\n",
       "      <th></th>\n",
       "      <th>RowNumber</th>\n",
       "      <th>CreditScore</th>\n",
       "      <th>Geography</th>\n",
       "      <th>Gender</th>\n",
       "      <th>Age</th>\n",
       "      <th>Tenure</th>\n",
       "      <th>Balance</th>\n",
       "      <th>NumOfProducts</th>\n",
       "      <th>HasCrCard</th>\n",
       "      <th>IsActiveMember</th>\n",
       "      <th>EstimatedSalary</th>\n",
       "    </tr>\n",
       "  </thead>\n",
       "  <tbody>\n",
       "    <tr>\n",
       "      <th>0</th>\n",
       "      <td>8589</td>\n",
       "      <td>712</td>\n",
       "      <td>Spain</td>\n",
       "      <td>Female</td>\n",
       "      <td>29</td>\n",
       "      <td>7</td>\n",
       "      <td>77919.78</td>\n",
       "      <td>1</td>\n",
       "      <td>1</td>\n",
       "      <td>0</td>\n",
       "      <td>122547.58</td>\n",
       "    </tr>\n",
       "    <tr>\n",
       "      <th>1</th>\n",
       "      <td>3179</td>\n",
       "      <td>542</td>\n",
       "      <td>France</td>\n",
       "      <td>Female</td>\n",
       "      <td>39</td>\n",
       "      <td>4</td>\n",
       "      <td>109949.39</td>\n",
       "      <td>2</td>\n",
       "      <td>1</td>\n",
       "      <td>1</td>\n",
       "      <td>41268.65</td>\n",
       "    </tr>\n",
       "    <tr>\n",
       "      <th>2</th>\n",
       "      <td>5201</td>\n",
       "      <td>512</td>\n",
       "      <td>Germany</td>\n",
       "      <td>Male</td>\n",
       "      <td>42</td>\n",
       "      <td>9</td>\n",
       "      <td>93955.83</td>\n",
       "      <td>2</td>\n",
       "      <td>1</td>\n",
       "      <td>0</td>\n",
       "      <td>14828.54</td>\n",
       "    </tr>\n",
       "    <tr>\n",
       "      <th>3</th>\n",
       "      <td>8890</td>\n",
       "      <td>580</td>\n",
       "      <td>France</td>\n",
       "      <td>Female</td>\n",
       "      <td>39</td>\n",
       "      <td>9</td>\n",
       "      <td>128362.59</td>\n",
       "      <td>1</td>\n",
       "      <td>1</td>\n",
       "      <td>0</td>\n",
       "      <td>86044.98</td>\n",
       "    </tr>\n",
       "    <tr>\n",
       "      <th>4</th>\n",
       "      <td>5790</td>\n",
       "      <td>689</td>\n",
       "      <td>Germany</td>\n",
       "      <td>Female</td>\n",
       "      <td>55</td>\n",
       "      <td>1</td>\n",
       "      <td>76296.81</td>\n",
       "      <td>1</td>\n",
       "      <td>1</td>\n",
       "      <td>0</td>\n",
       "      <td>42364.75</td>\n",
       "    </tr>\n",
       "    <tr>\n",
       "      <th>...</th>\n",
       "      <td>...</td>\n",
       "      <td>...</td>\n",
       "      <td>...</td>\n",
       "      <td>...</td>\n",
       "      <td>...</td>\n",
       "      <td>...</td>\n",
       "      <td>...</td>\n",
       "      <td>...</td>\n",
       "      <td>...</td>\n",
       "      <td>...</td>\n",
       "      <td>...</td>\n",
       "    </tr>\n",
       "    <tr>\n",
       "      <th>5995</th>\n",
       "      <td>8872</td>\n",
       "      <td>466</td>\n",
       "      <td>France</td>\n",
       "      <td>Female</td>\n",
       "      <td>30</td>\n",
       "      <td>3</td>\n",
       "      <td>0.00</td>\n",
       "      <td>1</td>\n",
       "      <td>1</td>\n",
       "      <td>0</td>\n",
       "      <td>193984.60</td>\n",
       "    </tr>\n",
       "    <tr>\n",
       "      <th>5996</th>\n",
       "      <td>9827</td>\n",
       "      <td>789</td>\n",
       "      <td>Spain</td>\n",
       "      <td>Female</td>\n",
       "      <td>40</td>\n",
       "      <td>4</td>\n",
       "      <td>0.00</td>\n",
       "      <td>2</td>\n",
       "      <td>1</td>\n",
       "      <td>0</td>\n",
       "      <td>137402.27</td>\n",
       "    </tr>\n",
       "    <tr>\n",
       "      <th>5997</th>\n",
       "      <td>5269</td>\n",
       "      <td>691</td>\n",
       "      <td>France</td>\n",
       "      <td>Male</td>\n",
       "      <td>28</td>\n",
       "      <td>1</td>\n",
       "      <td>0.00</td>\n",
       "      <td>2</td>\n",
       "      <td>0</td>\n",
       "      <td>0</td>\n",
       "      <td>92865.41</td>\n",
       "    </tr>\n",
       "    <tr>\n",
       "      <th>5998</th>\n",
       "      <td>9667</td>\n",
       "      <td>758</td>\n",
       "      <td>Spain</td>\n",
       "      <td>Male</td>\n",
       "      <td>35</td>\n",
       "      <td>5</td>\n",
       "      <td>0.00</td>\n",
       "      <td>2</td>\n",
       "      <td>1</td>\n",
       "      <td>0</td>\n",
       "      <td>95009.60</td>\n",
       "    </tr>\n",
       "    <tr>\n",
       "      <th>5999</th>\n",
       "      <td>6091</td>\n",
       "      <td>545</td>\n",
       "      <td>France</td>\n",
       "      <td>Male</td>\n",
       "      <td>26</td>\n",
       "      <td>7</td>\n",
       "      <td>0.00</td>\n",
       "      <td>2</td>\n",
       "      <td>0</td>\n",
       "      <td>1</td>\n",
       "      <td>156598.23</td>\n",
       "    </tr>\n",
       "  </tbody>\n",
       "</table>\n",
       "<p>6000 rows × 11 columns</p>\n",
       "</div>"
      ],
      "text/plain": [
       "      RowNumber  CreditScore Geography  Gender  Age  Tenure    Balance  \\\n",
       "0          8589          712     Spain  Female   29       7   77919.78   \n",
       "1          3179          542    France  Female   39       4  109949.39   \n",
       "2          5201          512   Germany    Male   42       9   93955.83   \n",
       "3          8890          580    France  Female   39       9  128362.59   \n",
       "4          5790          689   Germany  Female   55       1   76296.81   \n",
       "...         ...          ...       ...     ...  ...     ...        ...   \n",
       "5995       8872          466    France  Female   30       3       0.00   \n",
       "5996       9827          789     Spain  Female   40       4       0.00   \n",
       "5997       5269          691    France    Male   28       1       0.00   \n",
       "5998       9667          758     Spain    Male   35       5       0.00   \n",
       "5999       6091          545    France    Male   26       7       0.00   \n",
       "\n",
       "      NumOfProducts  HasCrCard  IsActiveMember  EstimatedSalary  \n",
       "0                 1          1               0        122547.58  \n",
       "1                 2          1               1         41268.65  \n",
       "2                 2          1               0         14828.54  \n",
       "3                 1          1               0         86044.98  \n",
       "4                 1          1               0         42364.75  \n",
       "...             ...        ...             ...              ...  \n",
       "5995              1          1               0        193984.60  \n",
       "5996              2          1               0        137402.27  \n",
       "5997              2          0               0         92865.41  \n",
       "5998              2          1               0         95009.60  \n",
       "5999              2          0               1        156598.23  \n",
       "\n",
       "[6000 rows x 11 columns]"
      ]
     },
     "execution_count": 19,
     "metadata": {},
     "output_type": "execute_result"
    }
   ],
   "source": [
    "X_train"
   ]
  },
  {
   "cell_type": "markdown",
   "metadata": {},
   "source": [
    "Definisco all'interno di \"transformers\" le trasformazioni che voglio applicare alle mie features.\n",
    "\n",
    "Definisco all'interno di transformers il nome della trasformazione, la classe di trasformazione (nel mio caso OneHotEncoder) per vettorizzare le colonne 2,3,5 che nel mio caso riguardano \"Geography\", \"Gender\" e \"Tenure\" e \"IsActiveMember\".\n",
    "\n",
    "In realtà anche \"NumOfproducts\", \"HasCrCard\" possono essere rappresentate come categorie, ma a livello di efficienza dell'algoritmo, effettuando l'encoding di queste 2 suddette categorie, non si ottiene un miglioramento.\n",
    "\n",
    "La categoria \"Tenure\" l'ho comunque fatta passare sotto il OneHotEncoding anche se a dir la verità è si una categoria, ma una categoria a rischio per lavorarla con il OneHotEncoding proprio per il fatto che, avendo 10 valori possibili mi crea 10 colonne solamente per lei, però ho un lieve miglioramento in termini di accuracy dell'algoritmo ed avendo eseguito l'encoding su pochi elementi posso permettermela.\n",
    "\n",
    "Sempre ragionando negli stessi termini, posso dire che per le categorie \"Geography\" e \"Gender\" non ci sono problemi di numero di colonne perchè \"Geography\" assume 3 valori diversi e \"Gender\" 2."
   ]
  },
  {
   "cell_type": "code",
   "execution_count": 20,
   "metadata": {},
   "outputs": [],
   "source": [
    "transformers = [\n",
    "    ['vectorize_category', OneHotEncoder(), [2,3,5,9]],\n",
    "    #['scaler', MinMaxScaler(), [6,10]]\n",
    "]"
   ]
  },
  {
   "cell_type": "markdown",
   "metadata": {},
   "source": [
    "Ho fatto una prova utilizzando il MinMaxScaler nel transformers cioè uno Scaler, ovvero un oggetto che mi permette di portare una serie di numeri su uno stesso range comune, che può essere per esempio tra 0 e 1, la mia idea era di dare la stessa importanza a numeri di grandezza molto diversa agli occhi dell'algoritmo che poi ho utilizzato nel modello, anche se i numeri che tratto cioè bilancio e stima sono simili quindi non ha senso usarlo, l'ho lasciato commentato\n"
   ]
  },
  {
   "cell_type": "markdown",
   "metadata": {},
   "source": [
    "Il ColumnTransformer è un costrutto che mi permette di operare una serie di trasformazioni definite nella variabile \"transformers\".\n",
    "\n",
    "Permette di effettuare una serie di modifiche in maniera semplice ed efficace sui dati, come ad esempio lo Scaling, l'Encoding, ecc...\n",
    "\n",
    "Tutto ciò è possibile grazie all'utilizzo del suo metodo \"fit_transform\" che applica ai suddetti dati le trasformazioni specificate.\n",
    "\n",
    "\"remainder=passthrough\" serve a specificare che ci interessano anche le colonne che non abbiamo trasformato che dunque non vengono omesse."
   ]
  },
  {
   "cell_type": "code",
   "execution_count": 21,
   "metadata": {},
   "outputs": [],
   "source": [
    "ct = ColumnTransformer(transformers, remainder='passthrough')"
   ]
  },
  {
   "cell_type": "code",
   "execution_count": 22,
   "metadata": {},
   "outputs": [],
   "source": [
    "X_train = ct.fit_transform(X_train)\n",
    "X_test = ct.fit_transform(X_test)"
   ]
  },
  {
   "cell_type": "markdown",
   "metadata": {},
   "source": [
    "Verifico come sono strutturate dopo la trasformazione le X di training e di test."
   ]
  },
  {
   "cell_type": "code",
   "execution_count": 23,
   "metadata": {},
   "outputs": [
    {
     "data": {
      "text/plain": [
       "array([[0.0000000e+00, 0.0000000e+00, 1.0000000e+00, ..., 1.0000000e+00,\n",
       "        1.0000000e+00, 1.2254758e+05],\n",
       "       [1.0000000e+00, 0.0000000e+00, 0.0000000e+00, ..., 2.0000000e+00,\n",
       "        1.0000000e+00, 4.1268650e+04],\n",
       "       [0.0000000e+00, 1.0000000e+00, 0.0000000e+00, ..., 2.0000000e+00,\n",
       "        1.0000000e+00, 1.4828540e+04],\n",
       "       ...,\n",
       "       [1.0000000e+00, 0.0000000e+00, 0.0000000e+00, ..., 2.0000000e+00,\n",
       "        0.0000000e+00, 9.2865410e+04],\n",
       "       [0.0000000e+00, 0.0000000e+00, 1.0000000e+00, ..., 2.0000000e+00,\n",
       "        1.0000000e+00, 9.5009600e+04],\n",
       "       [1.0000000e+00, 0.0000000e+00, 0.0000000e+00, ..., 2.0000000e+00,\n",
       "        0.0000000e+00, 1.5659823e+05]])"
      ]
     },
     "execution_count": 23,
     "metadata": {},
     "output_type": "execute_result"
    }
   ],
   "source": [
    "X_train"
   ]
  },
  {
   "cell_type": "code",
   "execution_count": 24,
   "metadata": {},
   "outputs": [
    {
     "data": {
      "text/plain": [
       "array([[1.0000000e+00, 0.0000000e+00, 0.0000000e+00, ..., 1.0000000e+00,\n",
       "        1.0000000e+00, 3.7898500e+04],\n",
       "       [0.0000000e+00, 1.0000000e+00, 0.0000000e+00, ..., 1.0000000e+00,\n",
       "        0.0000000e+00, 2.1597200e+04],\n",
       "       [0.0000000e+00, 0.0000000e+00, 1.0000000e+00, ..., 1.0000000e+00,\n",
       "        1.0000000e+00, 7.9355870e+04],\n",
       "       ...,\n",
       "       [0.0000000e+00, 0.0000000e+00, 1.0000000e+00, ..., 1.0000000e+00,\n",
       "        0.0000000e+00, 1.3104836e+05],\n",
       "       [0.0000000e+00, 1.0000000e+00, 0.0000000e+00, ..., 2.0000000e+00,\n",
       "        1.0000000e+00, 1.8939266e+05],\n",
       "       [1.0000000e+00, 0.0000000e+00, 0.0000000e+00, ..., 2.0000000e+00,\n",
       "        1.0000000e+00, 8.1299170e+04]])"
      ]
     },
     "execution_count": 24,
     "metadata": {},
     "output_type": "execute_result"
    }
   ],
   "source": [
    "X_test"
   ]
  },
  {
   "cell_type": "markdown",
   "metadata": {},
   "source": [
    "L'ultimo appunto riguardo l'elaborazione e la modifica dei dati riguarda i valori mancanti, in questo file csv non ci sono valori mancanti all'interno delle colonne trattate perciò non effettuo nessuna operazione."
   ]
  },
  {
   "cell_type": "code",
   "execution_count": 25,
   "metadata": {},
   "outputs": [
    {
     "name": "stdout",
     "output_type": "stream",
     "text": [
      "Exited             0\n",
      "RowNumber          0\n",
      "CustomerId         0\n",
      "Surname            0\n",
      "CreditScore        0\n",
      "Geography          0\n",
      "Gender             0\n",
      "Age                0\n",
      "Tenure             0\n",
      "Balance            0\n",
      "NumOfProducts      0\n",
      "HasCrCard          0\n",
      "IsActiveMember     0\n",
      "EstimatedSalary    0\n",
      "dtype: int64\n",
      "\n",
      "\n",
      "Exited             0\n",
      "RowNumber          0\n",
      "CustomerId         0\n",
      "Surname            0\n",
      "CreditScore        0\n",
      "Geography          0\n",
      "Gender             0\n",
      "Age                0\n",
      "Tenure             0\n",
      "Balance            0\n",
      "NumOfProducts      0\n",
      "HasCrCard          0\n",
      "IsActiveMember     0\n",
      "EstimatedSalary    0\n",
      "dtype: int64\n"
     ]
    }
   ],
   "source": [
    "print(train.isnull().sum())\n",
    "print('\\n')\n",
    "print(test.isnull().sum())"
   ]
  },
  {
   "cell_type": "markdown",
   "metadata": {},
   "source": [
    "Definite la separazione delle features dal target ed eseguite tecniche per migliorare l'insieme dei dati, definisco il modello."
   ]
  },
  {
   "cell_type": "markdown",
   "metadata": {},
   "source": [
    "# Modello"
   ]
  },
  {
   "cell_type": "markdown",
   "metadata": {},
   "source": [
    "L'algoritmo Random Forest è un algoritmo di apprendimento supervisionato.\n",
    "\n",
    "Una foresta casuale combina molti alberi decisionali in un unico modello. Individualmente, le previsioni fatte dagli alberi decisionali potrebbero non essere accurate, ma combinate insieme, le previsioni saranno in media più vicine al risultato.\n",
    "\n",
    "Il risultato finale restituito dal Random Forest altro non è che la media del risultato numerico restituito dai diversi alberi nel caso di un problema di regressione, o la classe restituita dal maggior numero di alberi nel caso la Random Forest sia stata utilizzata per risolvere un problema di classificazione.\n",
    "\n",
    "Ho testato che, per il seguente task, il DecisionTreeClassifier ha prestazioni nettamente inferiori rispetto al RandomForestClassifier, parliamo di una accuracy (di testing) del 75% circa per il DecisionTree mentre dell'86% circa per il RandomForest.\n",
    "\n",
    "Il parametro \"n_estimators\" indica il numero di alberi nella \"foresta\" cioè sfruttati dal modello, mentre il parametro \"criterion\" indica il criterio sfruttato dall'algoritmo, in questo caso l'entropia.\n",
    "\n",
    "Con il metodo \"fit\" effettuiamo l'addestramento del modello sui dati di training."
   ]
  },
  {
   "cell_type": "code",
   "execution_count": 26,
   "metadata": {},
   "outputs": [
    {
     "data": {
      "text/plain": [
       "RandomForestClassifier(criterion='entropy', n_estimators=150)"
      ]
     },
     "execution_count": 26,
     "metadata": {},
     "output_type": "execute_result"
    }
   ],
   "source": [
    "model = RandomForestClassifier(n_estimators=150, criterion='entropy')\n",
    "model.fit(X_train, y_train)"
   ]
  },
  {
   "cell_type": "markdown",
   "metadata": {},
   "source": [
    "Effettuo delle predictions relativamente al training (anche se non molto utile) ed al testing (il fulcro del task), utilizzando il metodo \"predict\" che mi da la previsione del modello relativamente ai dati che gli vengono passati."
   ]
  },
  {
   "cell_type": "code",
   "execution_count": 27,
   "metadata": {},
   "outputs": [],
   "source": [
    "train_prediction = model.predict(X_train)\n",
    "test_prediction = model.predict(X_test)"
   ]
  },
  {
   "cell_type": "markdown",
   "metadata": {},
   "source": [
    "Verifico poi il valore della accuracy ottenuta, sia lato training che testing.\n",
    "Per accuracy si intende il rapporto delle classificazioni giuste rispetto a tutte le classificazioni effettuate."
   ]
  },
  {
   "cell_type": "code",
   "execution_count": 28,
   "metadata": {},
   "outputs": [],
   "source": [
    "train_accuracy = accuracy_score(y_train, train_prediction)\n",
    "test_accuracy = accuracy_score(y_test, test_prediction)"
   ]
  },
  {
   "cell_type": "code",
   "execution_count": 29,
   "metadata": {},
   "outputs": [
    {
     "name": "stdout",
     "output_type": "stream",
     "text": [
      "Accuracy Training:  1.0\n",
      "Accuracy Testing:  0.861\n"
     ]
    }
   ],
   "source": [
    "print('Accuracy Training: ', train_accuracy)\n",
    "print('Accuracy Testing: ', test_accuracy)"
   ]
  },
  {
   "cell_type": "markdown",
   "metadata": {},
   "source": [
    "Come possiamo notare l'accuracy per il training è prossima al 100% perchè la effettuo sui dati di addestramento e quindi\n",
    "è come se imparasse a memoria le risposte.\n",
    "\n",
    "La accuracy per il testing, cioè quella che effettivamente ci interessa, è pari a circa l'86% ed è un buon valore, vuol dire che \n",
    "su 100 clienti 86 li classifica in maniera giusta."
   ]
  },
  {
   "cell_type": "markdown",
   "metadata": {},
   "source": [
    "Sfrutto il Classification Report che mi da una panoramica non solo sull'accuracy ma anche sulla precision, la recall e la f1\n",
    "che rappresenta la media armonica della precision e della recall.\n",
    "\n",
    "La sfrutto sia sul training (non molto utile ma solo per una panoramica in più) che sul testing. \n"
   ]
  },
  {
   "cell_type": "code",
   "execution_count": 30,
   "metadata": {},
   "outputs": [
    {
     "name": "stdout",
     "output_type": "stream",
     "text": [
      "Report Train:                precision    recall  f1-score   support\n",
      "\n",
      "           0       1.00      1.00      1.00      4769\n",
      "           1       1.00      1.00      1.00      1231\n",
      "\n",
      "    accuracy                           1.00      6000\n",
      "   macro avg       1.00      1.00      1.00      6000\n",
      "weighted avg       1.00      1.00      1.00      6000\n",
      "\n",
      "Report Test:                precision    recall  f1-score   support\n",
      "\n",
      "           0       0.87      0.97      0.92      1587\n",
      "           1       0.78      0.45      0.57       413\n",
      "\n",
      "    accuracy                           0.86      2000\n",
      "   macro avg       0.83      0.71      0.75      2000\n",
      "weighted avg       0.85      0.86      0.85      2000\n",
      "\n"
     ]
    }
   ],
   "source": [
    "report_train = classification_report(y_train, train_prediction)\n",
    "print('Report Train: ', report_train)\n",
    "report_test = classification_report(y_test, test_prediction)\n",
    "print('Report Test: ', report_test)"
   ]
  },
  {
   "cell_type": "markdown",
   "metadata": {},
   "source": [
    "Utilizzo un grafico \"Confusion Matrix\" ovvero la matrice di confusione che verifica per ogni classificazione, nel nostro caso per 0 o 1 \n",
    "quante delle label predette sono state assegnate alla suddetta classe predetta."
   ]
  },
  {
   "cell_type": "code",
   "execution_count": 31,
   "metadata": {},
   "outputs": [
    {
     "data": {
      "text/plain": [
       "<AxesSubplot:title={'center':'Confusion Matrix'}, xlabel='Predicted label', ylabel='True label'>"
      ]
     },
     "execution_count": 31,
     "metadata": {},
     "output_type": "execute_result"
    },
    {
     "data": {
      "image/png": "[encoded data removed]",
      "text/plain": [
       "<Figure size 432x288 with 2 Axes>"
      ]
     },
     "metadata": {
      "needs_background": "light"
     },
     "output_type": "display_data"
    }
   ],
   "source": [
    "skplt.metrics.plot_confusion_matrix(y_train, train_prediction)"
   ]
  },
  {
   "cell_type": "markdown",
   "metadata": {},
   "source": [
    "Nel caso del training è semplice, vediamo che relativamente al valore di Exited = 0 ho \"preso\" tutti i valori, stessa cosa per Exited = 1, cioè ho predetto in maniera corretta tutti i valori di target. "
   ]
  },
  {
   "cell_type": "code",
   "execution_count": 32,
   "metadata": {},
   "outputs": [
    {
     "data": {
      "text/plain": [
       "<AxesSubplot:title={'center':'Confusion Matrix'}, xlabel='Predicted label', ylabel='True label'>"
      ]
     },
     "execution_count": 32,
     "metadata": {},
     "output_type": "execute_result"
    },
    {
     "data": {
      "image/png": "[encoded data removed]",
      "text/plain": [
       "<Figure size 432x288 with 2 Axes>"
      ]
     },
     "metadata": {
      "needs_background": "light"
     },
     "output_type": "display_data"
    }
   ],
   "source": [
    "skplt.metrics.plot_confusion_matrix(y_test, test_prediction)"
   ]
  },
  {
   "cell_type": "markdown",
   "metadata": {},
   "source": [
    "Nel caso del testing, vediamo che relativamente al valore di Exited = 0 il mio modello ha \"preso\" quasi tutti i valori \"giusti\", su 1800 valori circa, ne ha sbagliati intorno ai 200, sbagliati perchè li aveva predetti come Exited = 0 ma in realtà erano relativi ad Exited = 1.\n",
    "\n",
    "Per Exited = 1 ho una previsione peggiore in rapporto anche perchè i valori con Exited = 1 sono di meno e sbagliare anche poco qui ha un peso maggiore, siamo a circa 30 errori su 200 valori circa. "
   ]
  },
  {
   "cell_type": "markdown",
   "metadata": {},
   "source": [
    "Come specificato anche sopra nelle descrizioni ho fatto piu prove con diversi algoritmi, ma ho deciso di lasciarne uno cioè questo del GradientBoosting perchè mi sembra tra i piu interessanti (insieme al RandomForest) per la classificazione.\n",
    "\n",
    "\n",
    "----------------------------------------\n",
    "\n",
    "\n",
    "\n",
    "Il GradientBoost sfrutta il concetto del gradiente definito nel corso.\n",
    "\n",
    "In termini di performance non c'è una grande differenza tra i due algoritmi, siamo su circa l'86% di accuracy, ma a livello di training impara meno a memoria i dati e quindi non ha il valore dell'accuracy pari al 100% come l'altro, qui ha circa l'88%.\n",
    "\n",
    "Un concetto importante sul quale focalizzarci è relativo al fatto che analizzando la matrice di confusione vediamo che rispetto a quella mostrata per la RandomForest si ha una efficienza nell' \"azzeccare\" le label leggermente maggiore, quindi sembra tutto sommato anche migliore del RandomForest, questo è un buon risultato che mi fa rimanere in bilico nella scelta dei due algoritmi.\n",
    "\n",
    "Scelgo quindi il GradientBoostingClassifier che ha anche un leggero margine di miglioramento, siamo comunque con entrambi all'86% di accuracy, con il GradientBoosting molto prossimo all'87%, perciò scegliere l'uno o l'altro fa poco in termini di efficienza.\n",
    "\n",
    "Perciò lascio aperto l'esempio del RandomForestClassifier per fare le comparazioni anche se la mia scelta è il GradientBoostClassifier!"
   ]
  },
  {
   "cell_type": "code",
   "execution_count": 33,
   "metadata": {},
   "outputs": [
    {
     "data": {
      "text/plain": [
       "GradientBoostingClassifier()"
      ]
     },
     "execution_count": 33,
     "metadata": {},
     "output_type": "execute_result"
    }
   ],
   "source": [
    "model2 = GradientBoostingClassifier(learning_rate=0.1)\n",
    "model2.fit(X_train, y_train)"
   ]
  },
  {
   "cell_type": "code",
   "execution_count": 34,
   "metadata": {},
   "outputs": [],
   "source": [
    "train_prediction_2 = model2.predict(X_train)\n",
    "test_prediction_2 = model2.predict(X_test)"
   ]
  },
  {
   "cell_type": "code",
   "execution_count": 35,
   "metadata": {},
   "outputs": [],
   "source": [
    "train_accuracy_2 = accuracy_score(y_train, train_prediction_2)\n",
    "test_accuracy_2 = accuracy_score(y_test, test_prediction_2)"
   ]
  },
  {
   "cell_type": "code",
   "execution_count": 36,
   "metadata": {},
   "outputs": [
    {
     "name": "stdout",
     "output_type": "stream",
     "text": [
      "Accuracy Training:  0.8765\n",
      "Accuracy Testing:  0.8655\n"
     ]
    }
   ],
   "source": [
    "print('Accuracy Training: ', train_accuracy_2)\n",
    "print('Accuracy Testing: ', test_accuracy_2)"
   ]
  },
  {
   "cell_type": "code",
   "execution_count": 37,
   "metadata": {},
   "outputs": [
    {
     "name": "stdout",
     "output_type": "stream",
     "text": [
      "Report Train:                precision    recall  f1-score   support\n",
      "\n",
      "           0       0.88      0.97      0.93      4769\n",
      "           1       0.83      0.50      0.63      1231\n",
      "\n",
      "    accuracy                           0.88      6000\n",
      "   macro avg       0.85      0.74      0.78      6000\n",
      "weighted avg       0.87      0.88      0.86      6000\n",
      "\n",
      "Report Test:                precision    recall  f1-score   support\n",
      "\n",
      "           0       0.88      0.96      0.92      1587\n",
      "           1       0.78      0.49      0.60       413\n",
      "\n",
      "    accuracy                           0.87      2000\n",
      "   macro avg       0.83      0.73      0.76      2000\n",
      "weighted avg       0.86      0.87      0.85      2000\n",
      "\n"
     ]
    }
   ],
   "source": [
    "report_train_2 = classification_report(y_train, train_prediction_2)\n",
    "print('Report Train: ', report_train_2)\n",
    "report_test_2 = classification_report(y_test, test_prediction_2)\n",
    "print('Report Test: ', report_test_2)"
   ]
  },
  {
   "cell_type": "code",
   "execution_count": 38,
   "metadata": {},
   "outputs": [
    {
     "data": {
      "text/plain": [
       "<AxesSubplot:title={'center':'Confusion Matrix'}, xlabel='Predicted label', ylabel='True label'>"
      ]
     },
     "execution_count": 38,
     "metadata": {},
     "output_type": "execute_result"
    },
    {
     "data": {
      "image/png": "[encoded data removed]",
      "text/plain": [
       "<Figure size 432x288 with 2 Axes>"
      ]
     },
     "metadata": {
      "needs_background": "light"
     },
     "output_type": "display_data"
    }
   ],
   "source": [
    "skplt.metrics.plot_confusion_matrix(y_train, train_prediction_2)"
   ]
  },
  {
   "cell_type": "code",
   "execution_count": 39,
   "metadata": {},
   "outputs": [
    {
     "data": {
      "text/plain": [
       "<AxesSubplot:title={'center':'Confusion Matrix'}, xlabel='Predicted label', ylabel='True label'>"
      ]
     },
     "execution_count": 39,
     "metadata": {},
     "output_type": "execute_result"
    },
    {
     "data": {
      "image/png": "[encoded data removed]",
      "text/plain": [
       "<Figure size 432x288 with 2 Axes>"
      ]
     },
     "metadata": {
      "needs_background": "light"
     },
     "output_type": "display_data"
    }
   ],
   "source": [
    "skplt.metrics.plot_confusion_matrix(y_test, test_prediction_2)"
   ]
  },
  {
   "cell_type": "markdown",
   "metadata": {},
   "source": [
    "Conclusione: vista la grande quantità di dati, possiamo ritenerci soddisfatti nell'avere una accuracy non lontana dal 90%, riusciamo quindi a predire in maniera molto accurata i clienti che vogliono rimanere o lasciare la nostra banca basandoci sulle caratteristiche dei clienti che ci sono state assegnate! "
   ]
  }
 ],
 "metadata": {
  "kernelspec": {
   "display_name": "Python 3",
   "language": "python",
   "name": "python3"
  },
  "language_info": {
   "codemirror_mode": {
    "name": "ipython",
    "version": 3
   },
   "file_extension": ".py",
   "mimetype": "text/x-python",
   "name": "python",
   "nbconvert_exporter": "python",
   "pygments_lexer": "ipython3",
   "version": "3.8.5"
  }
 },
 "nbformat": 4,
 "nbformat_minor": 4
}
